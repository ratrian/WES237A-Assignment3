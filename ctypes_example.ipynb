{
 "cells": [
  {
   "cell_type": "code",
   "execution_count": 1,
   "metadata": {},
   "outputs": [],
   "source": [
    "import ctypes\n",
    "import multiprocessing\n",
    "import os\n",
    "import time\n",
    "import matplotlib.pyplot as plt"
   ]
  },
  {
   "cell_type": "code",
   "execution_count": 2,
   "metadata": {},
   "outputs": [],
   "source": [
    "def recur_fibo(n):\n",
    "   if n <= 1:\n",
    "       return n\n",
    "   else:\n",
    "       return(recur_fibo(n - 1) + recur_fibo(n - 2))"
   ]
  },
  {
   "cell_type": "code",
   "execution_count": 3,
   "metadata": {},
   "outputs": [],
   "source": [
    "_libInC = ctypes.CDLL('./libMyLib.so')\n",
    "_libInC.myInitCounters(1, 1)\n",
    "\n",
    "x_vals = range(1, 31)\n",
    "xe1_vals = [x-0.2 for x in x_vals]\n",
    "xe2_vals = [x+0.2 for x in x_vals]\n",
    "y1_vals = []\n",
    "y1e1_vals = []\n",
    "y1e2_vals = []\n",
    "y2_vals = []\n",
    "y2e1_vals = []\n",
    "y2e2_vals = []\n",
    "for n in range(1, 31):\n",
    "    cyclecounts = []\n",
    "    average_cyclecount = 0\n",
    "    sd_cyclecount = 0\n",
    "    times = []\n",
    "    average_time = 0.0\n",
    "    sd_time = 0.0\n",
    "    for i in range(0,3):\n",
    "        p = multiprocessing.Process(target=recur_fibo, args=[n])\n",
    "        # before\n",
    "        before_cyclecount = _libInC.myGetCyclecount()\n",
    "        before_time = time.time()\n",
    "        # execute recur_fibo()\n",
    "        p.start()\n",
    "        os.system(\"taskset -p -c {} {}\".format(1, p.pid))\n",
    "        #after\n",
    "        after_cyclecount = _libInC.myGetCyclecount()\n",
    "        after_time = time.time()\n",
    "        # post processing\n",
    "        cyclecounts.append(after_cyclecount - before_cyclecount)\n",
    "        average_cyclecount += (after_cyclecount - before_cyclecount)\n",
    "        times.append(after_time - before_time)\n",
    "        average_time += (after_time - before_time)\n",
    "        p.join()\n",
    "    average_cyclecount //= 3\n",
    "    y1_vals.append(average_cyclecount)\n",
    "    sd_cyclecount = ((((cyclecounts[0] - average_cyclecount) ** 2 + (cyclecounts[1] - average_cyclecount) ** 2 + (cyclecounts[2] - average_cyclecount) ** 2) // 3) ** 0.5)\n",
    "    y1e1_vals.append(average_cyclecount - sd_cyclecount)\n",
    "    y1e2_vals.append(average_cyclecount + sd_cyclecount)\n",
    "    average_time /= 3.0\n",
    "    y2_vals.append(average_time)\n",
    "    sd_time = ((((times[0] - average_time) ** 2 + (times[1] - average_time) ** 2 + (times[2] - average_time) ** 2) / 3.0) ** 0.5)\n",
    "    y2e1_vals.append(average_time - sd_time)\n",
    "    y2e2_vals.append(average_time + sd_time)"
   ]
  },
  {
   "cell_type": "code",
   "execution_count": 4,
   "metadata": {},
   "outputs": [
    {
     "data": {
      "image/png": "[encoded data removed]",
      "text/plain": [
       "<matplotlib.figure.Figure at 0xafa04550>"
      ]
     },
     "metadata": {},
     "output_type": "display_data"
    }
   ],
   "source": [
    "plt.bar(x_vals, y1_vals, width=0.5, color=(1.0,0.0,0.0,0.6))\n",
    "plt.bar(xe1_vals, y1e1_vals, width=0.15, color=(0.0,1.0,0.0,0.6))\n",
    "plt.bar(xe2_vals, y1e2_vals, width=0.15, color=(0.0,0.0,1.0,0.6))\n",
    "plt.xlabel('n')\n",
    "plt.ylabel('cyclecount')\n",
    "plt.show()"
   ]
  },
  {
   "cell_type": "code",
   "execution_count": 5,
   "metadata": {},
   "outputs": [
    {
     "data": {
      "image/png": "[encoded data removed]",
      "text/plain": [
       "<matplotlib.figure.Figure at 0xaf9c9ad0>"
      ]
     },
     "metadata": {},
     "output_type": "display_data"
    }
   ],
   "source": [
    "plt.bar(x_vals, y2_vals, width=0.5, color=(1.0,0.0,0.0,0.6))\n",
    "plt.bar(xe1_vals, y2e1_vals, width=0.15, color=(0.0,1.0,0.0,0.6))\n",
    "plt.bar(xe2_vals, y2e2_vals, width=0.15, color=(0.0,0.0,1.0,0.6))\n",
    "plt.xlabel('n')\n",
    "plt.ylabel('time')\n",
    "plt.show()"
   ]
  },
  {
   "cell_type": "code",
   "execution_count": null,
   "metadata": {},
   "outputs": [],
   "source": []
  }
 ],
 "metadata": {
  "kernelspec": {
   "display_name": "Python 3",
   "language": "python",
   "name": "python3"
  },
  "language_info": {
   "codemirror_mode": {
    "name": "ipython",
    "version": 3
   },
   "file_extension": ".py",
   "mimetype": "text/x-python",
   "name": "python",
   "nbconvert_exporter": "python",
   "pygments_lexer": "ipython3",
   "version": "3.6.5"
  }
 },
 "nbformat": 4,
 "nbformat_minor": 2
}
